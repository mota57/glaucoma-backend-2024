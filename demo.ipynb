{
 "cells": [
  {
   "cell_type": "code",
   "execution_count": 1,
   "metadata": {},
   "outputs": [
    {
     "ename": "ModuleNotFoundError",
     "evalue": "No module named 'pynamodb'",
     "output_type": "error",
     "traceback": [
      "\u001b[0;31m---------------------------------------------------------------------------\u001b[0m",
      "\u001b[0;31mModuleNotFoundError\u001b[0m                       Traceback (most recent call last)",
      "Cell \u001b[0;32mIn[1], line 1\u001b[0m\n\u001b[0;32m----> 1\u001b[0m \u001b[38;5;28;01mfrom\u001b[39;00m \u001b[38;5;21;01mpynamodb\u001b[39;00m\u001b[38;5;21;01m.\u001b[39;00m\u001b[38;5;21;01mmodels\u001b[39;00m \u001b[38;5;28;01mimport\u001b[39;00m Model\n\u001b[1;32m      2\u001b[0m \u001b[38;5;28;01mfrom\u001b[39;00m \u001b[38;5;21;01mpynamodb\u001b[39;00m\u001b[38;5;21;01m.\u001b[39;00m\u001b[38;5;21;01mattributes\u001b[39;00m \u001b[38;5;28;01mimport\u001b[39;00m (\n\u001b[1;32m      3\u001b[0m     UnicodeAttribute, NumberAttribute, UnicodeSetAttribute, UTCDateTimeAttribute\n\u001b[1;32m      4\u001b[0m )\n\u001b[1;32m      8\u001b[0m \u001b[38;5;28;01mclass\u001b[39;00m \u001b[38;5;21;01mThread2\u001b[39;00m(Model):\n",
      "\u001b[0;31mModuleNotFoundError\u001b[0m: No module named 'pynamodb'"
     ]
    }
   ],
   "source": [
    "from pynamodb.models import Model\n",
    "from pynamodb.attributes import (\n",
    "    UnicodeAttribute, NumberAttribute, UnicodeSetAttribute, UTCDateTimeAttribute\n",
    ")\n",
    "\n",
    "\n",
    "\n",
    "class Thread2(Model):\n",
    "    class Meta:\n",
    "        table_name = 'Thread2'\n",
    "        # Specifies the region\n",
    "        region = 'us-east-1'\n",
    "    forum_name = UnicodeAttribute(hash_key=True)\n",
    "    subject = UnicodeAttribute(range_key=True)\n",
    "    views = NumberAttribute(default=0)\n",
    "    replies = NumberAttribute(default=0)\n",
    "    answered = NumberAttribute(default=0)\n",
    "    tags = UnicodeSetAttribute()\n",
    "    last_post_datetime = UTCDateTimeAttribute()\n",
    "\n",
    "\n",
    "Thread2.exists()\n",
    "#if not Thread.exists():\n",
    "#    res = Thread.create_table(read_capacity_units=1, write_capacity_units=1, wait=True)\n",
    " "
   ]
  }
 ],
 "metadata": {
  "kernelspec": {
   "display_name": ".venv",
   "language": "python",
   "name": "python3"
  },
  "language_info": {
   "codemirror_mode": {
    "name": "ipython",
    "version": 3
   },
   "file_extension": ".py",
   "mimetype": "text/x-python",
   "name": "python",
   "nbconvert_exporter": "python",
   "pygments_lexer": "ipython3",
   "version": "3.10.12"
  }
 },
 "nbformat": 4,
 "nbformat_minor": 2
}
